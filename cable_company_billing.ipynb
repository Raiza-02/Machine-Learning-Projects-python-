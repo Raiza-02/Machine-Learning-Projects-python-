{
 "cells": [
  {
   "cell_type": "markdown",
   "id": "18cedd16",
   "metadata": {},
   "source": [
    "# Calculate a customer's bill for a local cable company\n",
    "\n",
    "    There are two types of customers:\n",
    "        - Residential\n",
    "        - Business\n",
    "\n",
    "    The rates are different for both:\n",
    "\n",
    "    Residential customer rates:\n",
    "        - Bill processing fee: \\$4.50\n",
    "        - Basic service fee: \\$20.50\n",
    "        - Premium channel: \\$7.50 per channel\n",
    "\n",
    "    Business customer rates:\n",
    "        - Bill processing fee: \\$15.00\n",
    "        - Basic service fee: \\$75.00 for first ten connections and \\$5.00 for each additional connection\n",
    "        - Premium channel cost: \\$50.00 per channel for any number of connections\n",
    "\n",
    "    input: \n",
    "        Ask user for account number and customer code\n",
    "        Assume R or r stands for residential customer and B or b stands for business customer\n",
    "        - Customer account number\n",
    "        - Customer code\n",
    "        - Number of premium channels\n",
    "        - For business customers, number of basic service connections\n",
    "\n",
    "    output:\n",
    "        - Customer's account number\n",
    "        - Billing amount [two decimal places]"
   ]
  },
  {
   "cell_type": "code",
   "execution_count": 8,
   "id": "7e565758",
   "metadata": {},
   "outputs": [
    {
     "name": "stdout",
     "output_type": "stream",
     "text": [
      "Welcome to Cable Connection Company A. \n",
      "Please Enter the following details: \n",
      "Customer account number: 345765\n",
      "Customer code [1: for business enter 'B' 2: For residential enter 'R']: b\n",
      "Number of premium channels: 56\n",
      "Number of basic service connections: 12\n",
      "\n",
      "Dear customer number 345765,\n",
      "Your total for the services required is 150$.\n"
     ]
    }
   ],
   "source": [
    "import time\n",
    "\n",
    "print(\"Welcome to Cable Connection Company A. \\nPlease Enter the following details: \")\n",
    "\n",
    "#input\n",
    "cust_acc_no = int(input(\"Customer account number: \"))\n",
    "tcust = input(\"Customer code [1: for business enter 'B' 2: For residential enter 'R']: \").upper()\n",
    "prem_no = int(input(\"Number of premium channels: \"))\n",
    "\n",
    "#initial fee\n",
    "fee = 0\n",
    "\n",
    "#depending on customer code, calculations\n",
    "if tcust == 'B':\n",
    "    basic_service_conn = int(input(\"Number of basic service connections: \"))\n",
    "    fee += 15+75\n",
    "    if prem_no != 0: fee += 50\n",
    "    if basic_service_conn > 10: fee += (basic_service_conn-10)*5\n",
    "        \n",
    "elif tcust == 'R':\n",
    "    fee += 4.5+20.5\n",
    "    fee += prem_no*7.5\n",
    "\n",
    "else: print(\"INVALID CUSTOMER CODE.\")\n",
    "    \n",
    "time.sleep(0.8) \n",
    "\n",
    "#output\n",
    "print(f'\\nDear customer number {cust_acc_no},\\nYour total for the services required is {fee}$.')\n",
    " "
   ]
  },
  {
   "cell_type": "code",
   "execution_count": null,
   "id": "5b57cd90",
   "metadata": {},
   "outputs": [],
   "source": []
  }
 ],
 "metadata": {
  "kernelspec": {
   "display_name": "Python 3 (ipykernel)",
   "language": "python",
   "name": "python3"
  },
  "language_info": {
   "codemirror_mode": {
    "name": "ipython",
    "version": 3
   },
   "file_extension": ".py",
   "mimetype": "text/x-python",
   "name": "python",
   "nbconvert_exporter": "python",
   "pygments_lexer": "ipython3",
   "version": "3.9.7"
  }
 },
 "nbformat": 4,
 "nbformat_minor": 5
}
