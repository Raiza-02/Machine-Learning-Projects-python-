{
 "cells": [
  {
   "cell_type": "markdown",
   "id": "9475ae6a",
   "metadata": {},
   "source": [
    "# Movie Ticket Sale and Donation to Charity\n",
    "#### A theatre owner decides to donate a portion of gross ticket sales to a charity.\n",
    "##### The program will prompt the user to input:\n",
    "\n",
    "- Movie name\n",
    "- Adult ticket price\n",
    "- Child ticket price\n",
    "- Number of adult tickets sold\n",
    "- Number of child tickets sold\n",
    "- Percentage of gross amount to be donated\n",
    "\n",
    "##### Program output:\n",
    "\n",
    "- Movie name: ..................................*movie name*\n",
    "- Number of tickets sold: ......................*2350*\n",
    "- Gross amount: ................................*5150.00* \n",
    "- Percentage of gross amount donated: ..........*11.00%*\n",
    "- Amount donated: ..............................*\\$820.00*\n",
    "- Net sale:.....................................*\\$9235.00*"
   ]
  },
  {
   "cell_type": "code",
   "execution_count": 3,
   "id": "f000c708",
   "metadata": {},
   "outputs": [
    {
     "name": "stdout",
     "output_type": "stream",
     "text": [
      "Enter movie name: Inception\n",
      "Enter adult ticket price: 25\n",
      "Enter child ticket price: 10\n",
      "Enter number of adult tickets sold: 2345\n",
      "Enter number of child tickets sold: 1987\n",
      "Enter percentage of gross amount to be donated: 12\n"
     ]
    }
   ],
   "source": [
    "# inputs\n",
    "movie_name = input(\"Enter movie name: \")\n",
    "adult_ticket_price = int(input(\"Enter adult ticket price: \"))\n",
    "child_ticket_price = int(input(\"Enter child ticket price: \"))\n",
    "adult_tickets_sold = int(input(\"Enter number of adult tickets sold: \"))\n",
    "child_tickets_sold = int(input(\"Enter number of child tickets sold: \"))\n",
    "gross_donation_percentage = int(input(\"Enter percentage of gross amount to be donated: \"))"
   ]
  },
  {
   "cell_type": "code",
   "execution_count": 7,
   "id": "59852f70",
   "metadata": {},
   "outputs": [],
   "source": [
    "# calculatio\n",
    "total = adult_tickets_sold +  child_tickets_sold\n",
    "gross_amount = adult_tickets_sold * adult_ticket_price +  child_tickets_sold * adult_ticket_price\n",
    "gross_donation = gross_donation_percentage*gross_amount/100\n",
    "net_sale = gross_amount - gross_donation"
   ]
  },
  {
   "cell_type": "code",
   "execution_count": 21,
   "id": "480b7ae7",
   "metadata": {},
   "outputs": [
    {
     "name": "stdout",
     "output_type": "stream",
     "text": [
      "Movie name: ............................Inception\n",
      "Number of tickets sold: ................4332\n",
      "Gross amount: ..........................108300 $\n",
      "Percentage of gross amount donated: ....12 %\n",
      "Amount donated: ........................12996.0 $\n",
      "Net sale: ..............................95304.0 $\n"
     ]
    }
   ],
   "source": [
    "# output\n",
    "print(\"Movie name:\", movie_name.rjust(37, '.'))\n",
    "print(\"Number of tickets sold:\", str(total).rjust(20, '.'))\n",
    "print(\"Gross amount:\", str(gross_amount).rjust(32, '.'),\"$\")\n",
    "print(\"Percentage of gross amount donated:\", str(gross_donation_percentage).rjust(6, '.'),\"%\")\n",
    "print(\"Amount donated:\", str(gross_donation).rjust(31, '.'),\"$\")\n",
    "print(\"Net sale:\", str(net_sale).rjust( 37,'.'),\"$\")"
   ]
  },
  {
   "cell_type": "code",
   "execution_count": null,
   "id": "fc599230",
   "metadata": {},
   "outputs": [],
   "source": []
  }
 ],
 "metadata": {
  "kernelspec": {
   "display_name": "Python 3 (ipykernel)",
   "language": "python",
   "name": "python3"
  },
  "language_info": {
   "codemirror_mode": {
    "name": "ipython",
    "version": 3
   },
   "file_extension": ".py",
   "mimetype": "text/x-python",
   "name": "python",
   "nbconvert_exporter": "python",
   "pygments_lexer": "ipython3",
   "version": "3.9.7"
  }
 },
 "nbformat": 4,
 "nbformat_minor": 5
}
