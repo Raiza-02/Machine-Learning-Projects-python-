{
 "cells": [
  {
   "cell_type": "markdown",
   "id": "abcbeb94",
   "metadata": {},
   "source": [
    "Q1. write a program to convert temperature into farenheit"
   ]
  },
  {
   "cell_type": "code",
   "execution_count": 7,
   "id": "57598c66",
   "metadata": {},
   "outputs": [
    {
     "name": "stdout",
     "output_type": "stream",
     "text": [
      "Enter the temperature in celcius: 32\n",
      "89.6\n",
      "It is 89.6 fareinheit\n"
     ]
    }
   ],
   "source": [
    "C = float(input(\"Enter the temperature in celcius: \"))\n",
    "F = C*(9/5)+32\n",
    "print(F)\n",
    "print(f'It is {F} fareinheit')"
   ]
  },
  {
   "cell_type": "markdown",
   "id": "c75d0fb6",
   "metadata": {},
   "source": [
    "Q2. Make a dictionary for car model. Write a program to save keys and values in two distinct list."
   ]
  },
  {
   "cell_type": "code",
   "execution_count": 12,
   "id": "8cfdb2a7",
   "metadata": {},
   "outputs": [
    {
     "name": "stdout",
     "output_type": "stream",
     "text": [
      "Dictionary of keys as a list:  ['Brand', 'Model', 'Generation', 'Modification (Engine)', 'Start of production', 'End of production', 'Powertrain Architecture', 'Body type', 'Seats', 'Doors', 'Fuel consumption (economy) - urban', 'Fuel consumption (economy) - extra urban', 'Fuel consumption (economy) - combined', 'CO2 emissions', 'Fuel Type', 'Acceleration 0 - 100 km/h', 'Acceleration 0 - 62 mph', 'Acceleration 0 - 60 mph (Calculated by Auto-Data.net)', 'Maximum speed', 'Emission standard', 'Weight-to-power ratio', 'Weight-to-torque ratio']\n",
      "\n",
      "Dictionary of values as a list:  ['Mercedes-Benz', 'X-class', 'X-class', 'X 350d V6 (258 Hp) 4MATIC Automatic', '2018 year', 'May, 2020 year', 'Internal Combustion engine', 'Pick-up', '5', '4', '10.2 l/100 km', '8.3 l/100 km', '9 l/100 km', '237 g/km', 'Diesel', '7.9 sec', '7.9 sec', '7.5 sec', '205 km/h', 'Euro 6', '8.8 kg/Hp, 114.2 Hp/tonne', '4.1 kg/Nm, 243.5 Nm/tonne ']\n"
     ]
    }
   ],
   "source": [
    "#information directory\n",
    "Car1 = {\n",
    "    \"Brand\":\"Mercedes-Benz\", \n",
    "    \"Model\":\"X-class\", \n",
    "    \"Generation\":\"X-class\", \n",
    "    \"Modification (Engine)\":\"X 350d V6 (258 Hp) 4MATIC Automatic\",\n",
    "    \"Start of production\":\"2018 year\",\n",
    "    \"End of production\":\"May, 2020 year\",\n",
    "    \"Powertrain Architecture\":\"Internal Combustion engine\",\n",
    "    \"Body type\":\"Pick-up\",\n",
    "    \"Seats\":\"5\",\n",
    "    \"Doors\":\"4\",\n",
    "    \"Fuel consumption (economy) - urban\":\"10.2 l/100 km\",\n",
    "    \"Fuel consumption (economy) - extra urban\":\"8.3 l/100 km\",\n",
    "    \"Fuel consumption (economy) - combined\":\"9 l/100 km\",\n",
    "    \"CO2 emissions\":\"237 g/km\",\n",
    "    \"Fuel Type\":\"Diesel\",\n",
    "    \"Acceleration 0 - 100 km/h\":\"7.9 sec\",\n",
    "    \"Acceleration 0 - 62 mph\":\"7.9 sec\",\n",
    "    \"Acceleration 0 - 60 mph (Calculated by Auto-Data.net)\":\"7.5 sec\",\n",
    "    \"Maximum speed\":\"205 km/h\",\n",
    "    \"Emission standard\":\"Euro 6\",\n",
    "    \"Weight-to-power ratio\":\"8.8 kg/Hp, 114.2 Hp/tonne\",\n",
    "    \"Weight-to-torque ratio\":\"4.1 kg/Nm, 243.5 Nm/tonne \"   \n",
    "}\n",
    "\n",
    "#changing into list\n",
    "list1 = []\n",
    "list2 = []\n",
    "\n",
    "for i, j in Car1.items():\n",
    "    list1.append(i)\n",
    "    list2.append(j)\n",
    "\n",
    "#printing final output\n",
    "print(\"Dictionary of keys as a list: \", list1)\n",
    "print(\"\\nDictionary of values as a list: \",list2)\n",
    "    "
   ]
  },
  {
   "cell_type": "markdown",
   "id": "c127b362",
   "metadata": {},
   "source": [
    "Q3. If the marks obtained by a student in five different subjects are stored in tuple, write a program to find out the aggregate marks and percentage marks obtained by the student. (Assume maximum marks to be 100)"
   ]
  },
  {
   "cell_type": "code",
   "execution_count": 20,
   "id": "2f3a0bc4",
   "metadata": {},
   "outputs": [
    {
     "name": "stdout",
     "output_type": "stream",
     "text": [
      "Enter marks obtained by student in subject 1: 23\n",
      "Enter marks obtained by student in subject 2: 34\n",
      "Enter marks obtained by student in subject 3: 56\n",
      "Enter marks obtained by student in subject 4: 23\n",
      "Enter marks obtained by student in subject 5: 87\n",
      "Aggregate marks: 223 \n",
      "Aggregate percentage: 44.6 \n",
      "individual percentages: ['23%', '34%', '56%', '23%', '87%']\n"
     ]
    }
   ],
   "source": [
    "#making a tuple\n",
    "list = [0]*5\n",
    "for i in range(5): list[i] = int(input(f\"Enter marks obtained by student in subject {i+1}: \"))\n",
    "marks = tuple(list)\n",
    "\n",
    "\n",
    "list2 = []\n",
    "aggregate = 0\n",
    "for i in marks:\n",
    "    aggregate += i \n",
    "    #(or do k = list(marks) and sum(k) to get aggregate)\n",
    "    list2.append(f'{i}%')\n",
    "\n",
    "print(f\"\\nAggregate marks: {aggregate} \\nAggregate percentage: {aggregate/5}% \\nindividual percentages:\", list2)"
   ]
  },
  {
   "cell_type": "markdown",
   "id": "410605a1",
   "metadata": {},
   "source": [
    "Q4. Write a program to check whether a given character is vowel or consonant."
   ]
  },
  {
   "cell_type": "code",
   "execution_count": 28,
   "id": "496508f1",
   "metadata": {},
   "outputs": [
    {
     "name": "stdout",
     "output_type": "stream",
     "text": [
      "Enter a character: a\n",
      "It is a vowel\n"
     ]
    }
   ],
   "source": [
    "c = input(\"Enter a character: \")\n",
    "if not c.isalpha() or len(c) != 1: print(\"INVALID INPUT\")\n",
    "else:\n",
    "    vowels = ['a', 'e', 'i', 'o', 'u']\n",
    "    if c in vowels: print(\"It is a vowel\")\n",
    "    else: print(\"It is a consonant\")"
   ]
  },
  {
   "cell_type": "markdown",
   "id": "4d610a5f",
   "metadata": {},
   "source": [
    "Q5. Write a program to calculate the electricity bill (accept number of unit from user) according to the following criteria:\n",
    "\n",
    "| ----unit--------|-----price------|</br>\n",
    "| first 100 units | no charge      |</br>\n",
    "| next 100 units  | rs 5 per unit  |</br>\n",
    "| after 200 units | rs 10 per unit |<br>"
   ]
  },
  {
   "cell_type": "code",
   "execution_count": 29,
   "id": "3ff05b50",
   "metadata": {},
   "outputs": [
    {
     "name": "stdout",
     "output_type": "stream",
     "text": [
      "Enter no of units: 200\n"
     ]
    },
    {
     "data": {
      "text/plain": [
       "500"
      ]
     },
     "execution_count": 29,
     "metadata": {},
     "output_type": "execute_result"
    }
   ],
   "source": [
    "def func(u):\n",
    "    if u <= 100: return 0\n",
    "    u-=100\n",
    "    if u <= 200: return u*5\n",
    "    u-=100\n",
    "    return 500 + u*10\n",
    "u = int(input(\"Enter no of units: \"))\n",
    "func(u)"
   ]
  },
  {
   "cell_type": "code",
   "execution_count": null,
   "id": "bf1c7108",
   "metadata": {},
   "outputs": [],
   "source": []
  }
 ],
 "metadata": {
  "kernelspec": {
   "display_name": "Python 3 (ipykernel)",
   "language": "python",
   "name": "python3"
  },
  "language_info": {
   "codemirror_mode": {
    "name": "ipython",
    "version": 3
   },
   "file_extension": ".py",
   "mimetype": "text/x-python",
   "name": "python",
   "nbconvert_exporter": "python",
   "pygments_lexer": "ipython3",
   "version": "3.9.7"
  }
 },
 "nbformat": 4,
 "nbformat_minor": 5
}
